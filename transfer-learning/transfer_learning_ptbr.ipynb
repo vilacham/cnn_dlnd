{
 "cells": [
  {
   "cell_type": "markdown",
   "metadata": {},
   "source": [
    "# Aprendizado por transferência\n",
    "\n",
    "Aprendizado por transferência envolve pegar uma rede neural pré-treinada e adaptá-la para um novo e diferente conjunto de dados.\n",
    "\n",
    "Dependendo do tamanho do novo conjunto de dados e da similaridade do novo conjunto de dados e do conjunto de dados original, a abordagem para o aprendizado por transferência será diferente. Existem quatro casos principais:\n",
    "\n",
    "* novo conjunto de dados é pequeno, novos dados são similares aos dados de treinamento originais\n",
    "* novo conjunto de dados é pequeno, novos dados são diferentes dos dados de treinamento originais\n",
    "* novo conjunto de dados é grande, novos dados são similares aos dados de treinamento originais\n",
    "* novo conjunto de dados é grande, novos dados são diferentes dos dados de treinamento originais\n",
    "\n",
    "<img src='img/01-guide-how-transfer-learning.png' width=800px>\n",
    "\n",
    "Um conjunto de dados grande pode ter um milhão de imagens. Um conjunto de dados pequeno pode ter duas mil imagens. A linha que divide um conjunto de dados grande e um pequeno é, de certa forma, subjetiva. Uma preocupação comum quando usamos aprendizado por transferência em um conjunto de dados pequeno é que ocorra sobreajuste.\n",
    "\n",
    "Imagens de cachorros e imagens de lobos seriam consideradas similares; as imagens compartilhariam características comuns. Um conjunto de imagens de flores seria diferente de um conjunto de imagens de cachorros.\n",
    "\n",
    "Como dito anteriormente, cada um dos quatro casos de aprendizado por transferência tem sua própria abordagem. Nas seções a seguir, vamos analisar cada caso separadamente."
   ]
  },
  {
   "cell_type": "markdown",
   "metadata": {},
   "source": [
    "---\n",
    "## Rede de demonstração\n",
    "\n",
    "Para explicar como cada situação funciona, vamos começar com uma rede neural convolucional pré-treinada genérica e explicar como ajustar a rede para cada caso. Nossa rede exemplo contém três camadas convolucionais e três camadas completamente conectadas:\n",
    "\n",
    "<img src='img/02-guide-how-transfer-learning.png' width=800px>\n",
    "\n",
    "Aqui vai uma visão geral do que uma rede neural convolucional faz:\n",
    "\n",
    "* a primeira camada vai detectar bordas na imagem\n",
    "* a segunda camada vai detectar formas\n",
    "* a terceira camada detecta caraterísticas de ordem mais elevada\n",
    "\n",
    "Cada caso de aprendizado por transferência vai usar a rede neural convolucional pré-treinada de uma forma diferente."
   ]
  },
  {
   "cell_type": "markdown",
   "metadata": {},
   "source": [
    "---\n",
    "## Caso 1: conjunto de dados pequeno, dados semelhantes\n",
    "\n"
   ]
  }
 ],
 "metadata": {
  "kernelspec": {
   "display_name": "Python 3",
   "language": "python",
   "name": "python3"
  },
  "language_info": {
   "codemirror_mode": {
    "name": "ipython",
    "version": 3
   },
   "file_extension": ".py",
   "mimetype": "text/x-python",
   "name": "python",
   "nbconvert_exporter": "python",
   "pygments_lexer": "ipython3",
   "version": "3.6.5"
  }
 },
 "nbformat": 4,
 "nbformat_minor": 2
}
