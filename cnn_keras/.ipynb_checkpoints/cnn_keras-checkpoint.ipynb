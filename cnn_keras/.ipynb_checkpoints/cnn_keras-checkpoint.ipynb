{
 "cells": [
  {
   "cell_type": "markdown",
   "metadata": {
    "collapsed": true
   },
   "source": [
    "# Redes neurais convolucionais no Keras\n",
    "\n",
    "Neste notebook, discute-se como implementar redes neurais convolucionais usando o Keras."
   ]
  },
  {
   "cell_type": "markdown",
   "metadata": {},
   "source": [
    "---\n",
    "## Camadas convolucionais no Keras\n",
    "\n",
    "<img src='img/full_padding_no_strides_transposed.gif' width=300px>\n",
    "\n",
    "Para criar uma camada convolucional no Keras, primeiro é necessário importar o módulo [**`Conv2D`**](https://keras.io/layers/convolutional/#conv2d), como no exemplo abaixo:\n",
    "\n",
    "```\n",
    "from keras.layers import Conv2D\n",
    "```\n",
    "\n",
    "Então, para de fato criar a camada, usa-se o formato a seguir:\n",
    "\n",
    "```\n",
    "Conv2D(filters, kernel_size, strides, padding, activation='relu', input_shape)\n",
    "```"
   ]
  },
  {
   "cell_type": "markdown",
   "metadata": {},
   "source": [
    "### Argumentos\n",
    "\n",
    "Deve-se passar os seguintes argumentos:\n",
    "\n",
    "* `filters`: número de filtros.\n",
    "* `kernel_size`: número que especifica as dimensões (altura e largura) da janela de convolução."
   ]
  }
 ],
 "metadata": {
  "kernelspec": {
   "display_name": "Python 3",
   "language": "python",
   "name": "python3"
  },
  "language_info": {
   "codemirror_mode": {
    "name": "ipython",
    "version": 3
   },
   "file_extension": ".py",
   "mimetype": "text/x-python",
   "name": "python",
   "nbconvert_exporter": "python",
   "pygments_lexer": "ipython3",
   "version": "3.6.1"
  }
 },
 "nbformat": 4,
 "nbformat_minor": 2
}
