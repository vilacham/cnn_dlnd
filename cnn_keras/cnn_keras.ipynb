{
 "cells": [
  {
   "cell_type": "markdown",
   "metadata": {
    "collapsed": true
   },
   "source": [
    "# Redes neurais convolucionais no Keras\n",
    "\n",
    "Neste notebook, discute-se como implementar redes neurais convolucionais usando o Keras."
   ]
  },
  {
   "cell_type": "markdown",
   "metadata": {},
   "source": [
    "---\n",
    "## Camadas convolucionais no Keras\n",
    "\n",
    "<img src='img/full_padding_no_strides_transposed.gif' width=300px>\n",
    "\n",
    "Para criar uma camada convolucional no Keras, primeiro é necessário importar o módulo [**`Conv2D`**](https://keras.io/layers/convolutional/#conv2d), como no exemplo abaixo:\n",
    "\n",
    "```\n",
    "from keras.layers import Conv2D\n",
    "```\n",
    "\n",
    "Então, para de fato criar a camada, usa-se o formato a seguir:\n",
    "\n",
    "```\n",
    "Conv2D(filters, kernel_size, strides, padding, activation='relu', input_shape)\n",
    "```"
   ]
  },
  {
   "cell_type": "markdown",
   "metadata": {},
   "source": [
    "### Argumentos\n",
    "\n",
    "Deve-se passar os seguintes argumentos:\n",
    "\n",
    "* **`filters`**: número de filtros.\n",
    "* **`kernel_size`**: número ou tupla que especifica as dimensões (altura e largura) da janela de convolução.\n",
    "\n",
    "Há também argumentos opcionais que podem ser ajustados:\n",
    "\n",
    "* **`strides`**: número ou tupla que especifica o passo da convolução. Se não for especificado, assume o valor padrão de `1`.\n",
    "* **`padding`**: pode ser `'valid'` (não há preenchimento, fazendo com que a janela de convolução ocupe apenas as posições válidas) ou `'same'` (há preechimento, fazendo com que a convolução resulte em uma saída com as mesmas dimensões da entrada). Se não for especificado, assume o valor padrão `'valid'`.\n",
    "* **`activation`**: tipicamente `'relu'`. É sempre recomendado que essa seja a função de ativação em camadas convolucionais. Se não for especificado, assume `None`.\n",
    "* **`input_shape`**: tupla que especifica a altura, a largura e a profundidade, nesta ordem, da entrada. ***É importante lembrar que este argumento deve ser usado apenas na primeira camada (após a camada de entrada) de um modelo, e não deve ser incluído nas outras camadas.***\n",
    "\n",
    "Existem outros argumentos ajustáveis que podem ser configurados para alterar o comportamento de uma camada convolucional. Para ler mais sobre estes argumentos, é recomendável que se leia a [documentação](https://keras.io/layers/convolutional/#conv2d)."
   ]
  },
  {
   "cell_type": "markdown",
   "metadata": {},
   "source": [
    "### Exemplos\n",
    "\n",
    "**Primeiro exemplo:** Digamos que você esteja construindo uma CNN e sua camada de entrada aceite imagens em níveis de cinza de 200 por 200 pixeis (correspondentes a um arranjo 3d de altura 200, largura 200 e profundidade 1). Digamos que você gostaria que a próxima camada fosse uma camada convolucional com 16 filtros, cada um com altura e largura de 2. Quando estiver realizando a convolução, vocÇe também gostaria que o filtro pulasse 2 pixels por vez, e não gostaria que o filtro fosse aplicado fora dos limites da imagem (em outras palavras, você não quer preencher a imagem com zeros). Para construir esta camada, você deve usar a seguinte linha de código:\n",
    "\n",
    "```\n",
    "Conv2D(filters=16, kernel_size=2, strides=2, activation='relu', input_shape=(200, 200, 1))\n",
    "```\n",
    "\n",
    "**Segundo exemplo:** Digamos que você gostaria que a próxima camada da sua CNN fosse uma camada convolucional que receberá a camada construído no primeiro exemplo como entrada. Digamos que você gostaria que sua nova camada tivesse 32 filtros, cada um com altura e largura 3. Quando estiver realizando a convolução, você gostaria que o filtro pulasse 1 pixel por vez. Você quer que a camada convolucional veja todas as regiões da camada anterior, então não se importa se o filtro se estender além da borda da camada anterior quando estiver realizando a convolução. Para construir essa camada, você deve usar a seguinte linha de código:\n",
    "\n",
    "```\n",
    "Conv2D(filters=32, kernel_size=3, padding='same', activation='relu')\n",
    "```\n",
    "\n",
    "**Terceiro exemplo:** Se você pesquisar sobre CNN no Keras, possivelmente verá códigos no seguinte formato:\n",
    "\n",
    "```\n",
    "Conv2D(64, (2, 2), activation='relu')\n",
    "```\n",
    "\n",
    "Neste caso, existem 64 filtros, cada um com tamanho 2x2, e a camada tem uma função de ativação ReLu. Os outros argumentos da camada assumem valores padrão, então a convolução tem um passo de 1 e o preenchimento foi configurado como `'valid'`."
   ]
  },
  {
   "cell_type": "markdown",
   "metadata": {},
   "source": [
    "---\n",
    "## Dimensionalidade das camadas convolucionais\n",
    "\n",
    "<img src='img/convolution_schematic.gif' width=300px>\n",
    "\n",
    "Assim como redes neurais, uma CNN é criada no Keras por meio de um modelo `Sequential` em primeiro lugar. As camadas são adicionadas à rede usando o método `.add()`.\n",
    "\n",
    "O código abaixo cria uma CNN que não será treinada; em vez disso, será utilizada para estudar como a dimensionalidade das camadas convolucionais mudam de acordo com os argumentos fornecidos."
   ]
  },
  {
   "cell_type": "code",
   "execution_count": 1,
   "metadata": {},
   "outputs": [
    {
     "name": "stderr",
     "output_type": "stream",
     "text": [
      "Using TensorFlow backend.\n"
     ]
    },
    {
     "name": "stdout",
     "output_type": "stream",
     "text": [
      "_________________________________________________________________\n",
      "Layer (type)                 Output Shape              Param #   \n",
      "=================================================================\n",
      "conv2d_1 (Conv2D)            (None, 100, 100, 16)      80        \n",
      "=================================================================\n",
      "Total params: 80\n",
      "Trainable params: 80\n",
      "Non-trainable params: 0\n",
      "_________________________________________________________________\n"
     ]
    }
   ],
   "source": [
    "from keras.models import Sequential\n",
    "from keras.layers import Conv2D\n",
    "\n",
    "model = Sequential()\n",
    "\n",
    "model.add(Conv2D(filters=16, kernel_size=2, strides=2, padding='valid', \n",
    "                 activation='relu', input_shape=(200, 200, 1)))\n",
    "\n",
    "model.summary()"
   ]
  },
  {
   "cell_type": "markdown",
   "metadata": {},
   "source": [
    "Nas células abaixo, faremos algumas mudanças nos argumentos da camada convolucional. Observe como o **número de parâmetros** muda, e também como a **forma** da camada convolucional muda. Note que a forma corresponde ao valor `Output Shape` que aparece na saída do terminal (no modelo acima, `None` corresponde ao tamanho do lote, e a camada convolucional tem uma altura de `100`, largura de `100` e profundidade de `16`)."
   ]
  },
  {
   "cell_type": "code",
   "execution_count": 2,
   "metadata": {},
   "outputs": [
    {
     "name": "stdout",
     "output_type": "stream",
     "text": [
      "_________________________________________________________________\n",
      "Layer (type)                 Output Shape              Param #   \n",
      "=================================================================\n",
      "conv2d_2 (Conv2D)            (None, 99, 99, 16)        272       \n",
      "=================================================================\n",
      "Total params: 272\n",
      "Trainable params: 272\n",
      "Non-trainable params: 0\n",
      "_________________________________________________________________\n"
     ]
    }
   ],
   "source": [
    "model = Sequential()\n",
    "\n",
    "# Mudança em kernel_size (de 2 para 4)\n",
    "model.add(Conv2D(filters=16, kernel_size=4, strides=2, padding='valid', \n",
    "                 activation='relu', input_shape=(200, 200, 1)))\n",
    "\n",
    "model.summary()"
   ]
  },
  {
   "cell_type": "code",
   "execution_count": 3,
   "metadata": {},
   "outputs": [
    {
     "name": "stdout",
     "output_type": "stream",
     "text": [
      "_________________________________________________________________\n",
      "Layer (type)                 Output Shape              Param #   \n",
      "=================================================================\n",
      "conv2d_3 (Conv2D)            (None, 100, 100, 32)      160       \n",
      "=================================================================\n",
      "Total params: 160\n",
      "Trainable params: 160\n",
      "Non-trainable params: 0\n",
      "_________________________________________________________________\n"
     ]
    }
   ],
   "source": [
    "model = Sequential()\n",
    "\n",
    "# Mudança em filters (de 16 para 32)\n",
    "model.add(Conv2D(filters=32, kernel_size=2, strides=2, padding='valid', \n",
    "                 activation='relu', input_shape=(200, 200, 1)))\n",
    "\n",
    "model.summary()"
   ]
  },
  {
   "cell_type": "code",
   "execution_count": 4,
   "metadata": {},
   "outputs": [
    {
     "name": "stdout",
     "output_type": "stream",
     "text": [
      "_________________________________________________________________\n",
      "Layer (type)                 Output Shape              Param #   \n",
      "=================================================================\n",
      "conv2d_4 (Conv2D)            (None, 240, 240, 16)      208       \n",
      "=================================================================\n",
      "Total params: 208\n",
      "Trainable params: 208\n",
      "Non-trainable params: 0\n",
      "_________________________________________________________________\n"
     ]
    }
   ],
   "source": [
    "model = Sequential()\n",
    "\n",
    "# Mudança em input_shape (de (200, 200, 1) para (480, 480, 3))\n",
    "model.add(Conv2D(filters=16, kernel_size=2, strides=2, padding='valid', \n",
    "                 activation='relu', input_shape=(480, 480, 3)))\n",
    "\n",
    "model.summary()"
   ]
  },
  {
   "cell_type": "markdown",
   "metadata": {
    "collapsed": true
   },
   "source": [
    "### Número de parâmetros em uma camada convolucional\n",
    "\n",
    "O número de parâmetros em uma camada convolucional depende do número de filtros na camada (`filters`), das dimensões dos filtros convolucionais (`kernel_size`) e da profundidade da camada anterior (ou seja, do último valor da tupla `input_shape`).\n",
    "\n",
    "Chamando o número de filtros de `NF`, a altura do filtro convolucional de `AK`, a largura do filtro convolucional de `LK` e a profundidade da camada anterior de `PCA`, temos:\n",
    "\n",
    "* $AK * LK * PCA$ pesos por filtro;\n",
    "* $AK * LK * PCA * NF$ pesos na camada convolucional;\n",
    "* $AK * LK * PCA * NF + NF$ parâmetros na camada convolucional.\n",
    "\n",
    "**Nota**: para total compreensão da última fórmula listada acima, é importante lembrar que existe um termo de viés por filtro (por isso adiciona-se `NF` ao número de filtros na camada convolucional)."
   ]
  },
  {
   "cell_type": "markdown",
   "metadata": {},
   "source": [
    "### Profundidade da camada convolucional\n",
    "\n",
    "A profundidade da camada convolucional será sempre igual ao número de filtros (`filters`)."
   ]
  },
  {
   "cell_type": "markdown",
   "metadata": {},
   "source": [
    "### Formato da camada convolucional\n",
    "\n",
    "O formato de uma camada convolucional depende da dimensão dos filtros convolucionais (`kernel_size`), das dimensões da camada anterior (`input_shape`), do preenchimento da camada convolucional (`padding`) e do passo da convolução (`stride`).\n",
    "\n",
    "Chamando a altura do filtro convolucional de `AK`, a largura do filtro convolucional de `LK`, a altura da camada anterior de `AE`, a largura da camada anterior de `LE` e o passo da convolução de `P`, temos:\n",
    "\n",
    "1. se `padding='same'`, as dimensões da camada convolucional serão:\n",
    "    * altura = math.ceil($\\frac{AE}{P}$)\n",
    "    * largura = math.ceil($\\frac{LE}{P}$)\n",
    "2. se `padding='valid'`, as dimensões da camada convolucional serão:\n",
    "    * altura = math.ceil($\\frac{AE - AK + 1}{P}$)\n",
    "    * largura = math.ceil($\\frac{LE - LK + 1}{P}$)\n",
    "\n",
    "**Nota**: a função `math.ceil(x)` retorna o menor inteiro maior ou igual a `x`. Observe que `x` dever ser um `float`."
   ]
  },
  {
   "cell_type": "markdown",
   "metadata": {},
   "source": [
    "### Exemplo\n",
    "\n",
    "Para nos certificarmos que as fórmulas descritas acima são coerentes, usaremos o trecho de código abaixo para calcular quantos parâmetros a camada convolucional tem, qual sua profundidade e quais as dimensões de sua saída."
   ]
  },
  {
   "cell_type": "code",
   "execution_count": 5,
   "metadata": {},
   "outputs": [
    {
     "name": "stdout",
     "output_type": "stream",
     "text": [
      "Quantidade de parâmetros: 896\n",
      "Profundidade da camada convolucional: 32\n",
      "Altura da saída: 64\n",
      "Largura da saída: 64\n",
      "_________________________________________________________________\n",
      "Layer (type)                 Output Shape              Param #   \n",
      "=================================================================\n",
      "conv2d_5 (Conv2D)            (None, 64, 64, 32)        896       \n",
      "=================================================================\n",
      "Total params: 896\n",
      "Trainable params: 896\n",
      "Non-trainable params: 0\n",
      "_________________________________________________________________\n"
     ]
    }
   ],
   "source": [
    "from keras.models import Sequential\n",
    "from keras.layers import Conv2D\n",
    "from math import ceil\n",
    "\n",
    "model = Sequential()\n",
    "model.add(Conv2D(filters=32, kernel_size=3, strides=2, padding='same', \n",
    "                 activation='relu', input_shape=(128, 128, 3)))\n",
    "\n",
    "NF = 32\n",
    "AK = 3\n",
    "LK = 3\n",
    "PCA = 3\n",
    "P = 2\n",
    "AE = 128\n",
    "LE = 128\n",
    "print('Quantidade de parâmetros: {}'.format(AK * LK * PCA * NF + NF))\n",
    "print('Profundidade da camada convolucional: {}'.format(NF))\n",
    "print('Altura da saída: {}'.format(ceil(float(AE)/float(P))))\n",
    "print('Largura da saída: {}'.format(ceil(float(LE)/float(P))))\n",
    "\n",
    "model.summary()"
   ]
  },
  {
   "cell_type": "markdown",
   "metadata": {},
   "source": [
    "---\n",
    "## Agragação max pooling no Keras\n",
    "\n",
    "<img src='img/maxpool.jpeg' width=500px>\n",
    "\n",
    "Para criar camadas max pooling no Keras, é necessário importar o módulo [**`MaxPooling2D`**](https://keras.io/layers/pooling/#maxpooling2d), como no exemplo abaixo:\n",
    "\n",
    "```\n",
    "from keras.layers import MaxPooling2D\n",
    "```\n",
    "\n",
    "Para criar a camada, usa-se o formato a seguir:\n",
    "\n",
    "```\n",
    "MaxPooling2D(pool_size, strides, padding)\n",
    "```"
   ]
  },
  {
   "cell_type": "markdown",
   "metadata": {},
   "source": [
    "### Argumentos\n",
    "\n",
    "O seguinte argumento é obrigatório em uma camada max pooling no Keras:\n",
    "\n",
    "* **`pool_size`**: número ou tupla que especifica as dimensões (altura e largura) da janela de agregação.\n",
    "\n",
    "Os argumentos a seguir são opcionais:\n",
    "\n",
    "* **`strides`**: número ou tupla que especifica o passo vertical e horizontal da agregação. Se não for especificado, assume o mesmo valor que `pool_size`.\n",
    "* **`padding`**: pode ser `'valid'` (não há preenchimento, fazendo com que a janela de convolução ocupe apenas as posições válidas) ou `'same'` (há preechimento, fazendo com que a convolução resulte em uma saída com as mesmas dimensões da entrada). Se não for especificado, assume o valor padrão `'valid'`.\n",
    "\n",
    "Para mais explicações a respeito do módulo, é recomendável que se leia a [documentação](https://keras.io/layers/pooling/#maxpooling2d)."
   ]
  },
  {
   "cell_type": "markdown",
   "metadata": {},
   "source": [
    "### Exemplos\n",
    "\n",
    "**Primeiro exemplo:** Digamos que você está construindo uma CNN e gostaria de reduzir a dimensionalidade de uma camada convolucional, adicionando uma camada max pooling na sequência. Digamos que a camada convolucional tem tamanho `(100, 100, 15)`, e você gostaria que a camada max pooling tivesse tamanho `(50, 50, 15)`. Você pode fazer isso usando uma janela 2x2 na sua camada de agregação max-pooling, com um passo de 2, o que pode ser feito com a seguinte linha de código:\n",
    "\n",
    "```\n",
    "MaxPooling2D(pool_size=2, strides=2)\n",
    "```\n",
    "\n",
    "**Segundo exemplo:** Se você quisess usar um passo de 1, mas manter o tamanho da janela em 2x2, então você usaria:\n",
    "\n",
    "```\n",
    "MaxPooling2D(pool_size=2, strides=1)\n",
    "```"
   ]
  },
  {
   "cell_type": "markdown",
   "metadata": {},
   "source": [
    "---\n",
    "## Dimensionalidade das camadas max pooling\n",
    "\n",
    "Altere os argumentos da camada max pooling do código abaixo e observe como a saída muda para entender como a forma da camada max pooling se altera:"
   ]
  },
  {
   "cell_type": "code",
   "execution_count": 15,
   "metadata": {},
   "outputs": [
    {
     "name": "stdout",
     "output_type": "stream",
     "text": [
      "_________________________________________________________________\n",
      "Layer (type)                 Output Shape              Param #   \n",
      "=================================================================\n",
      "max_pooling2d_10 (MaxPooling (None, 50, 50, 15)        0         \n",
      "=================================================================\n",
      "Total params: 0\n",
      "Trainable params: 0\n",
      "Non-trainable params: 0\n",
      "_________________________________________________________________\n"
     ]
    }
   ],
   "source": [
    "from keras.models import Sequential\n",
    "from keras.layers import MaxPooling2D\n",
    "\n",
    "model = Sequential()\n",
    "model.add(MaxPooling2D(pool_size=2, strides=2, \n",
    "                       input_shape=(100, 100, 15)))\n",
    "model.summary()"
   ]
  },
  {
   "cell_type": "markdown",
   "metadata": {},
   "source": [
    "---\n",
    "## CNNs para classificação de imagens\n",
    "\n",
    "Nesta seção, vamos implementar uma CNN simples que pode ser treinada usando as imagens do CIFAR-10 (cujas dimensões são (32, 32, 3)). O código abaixo já implementa toda a rede, e logo em seguida há uma discussão sobre o que foi implementado."
   ]
  },
  {
   "cell_type": "code",
   "execution_count": 16,
   "metadata": {},
   "outputs": [
    {
     "name": "stdout",
     "output_type": "stream",
     "text": [
      "_________________________________________________________________\n",
      "Layer (type)                 Output Shape              Param #   \n",
      "=================================================================\n",
      "conv2d_6 (Conv2D)            (None, 32, 32, 16)        208       \n",
      "_________________________________________________________________\n",
      "max_pooling2d_11 (MaxPooling (None, 16, 16, 16)        0         \n",
      "_________________________________________________________________\n",
      "conv2d_7 (Conv2D)            (None, 16, 16, 32)        2080      \n",
      "_________________________________________________________________\n",
      "max_pooling2d_12 (MaxPooling (None, 8, 8, 32)          0         \n",
      "_________________________________________________________________\n",
      "conv2d_8 (Conv2D)            (None, 8, 8, 64)          8256      \n",
      "_________________________________________________________________\n",
      "max_pooling2d_13 (MaxPooling (None, 4, 4, 64)          0         \n",
      "_________________________________________________________________\n",
      "flatten_1 (Flatten)          (None, 1024)              0         \n",
      "_________________________________________________________________\n",
      "dense_1 (Dense)              (None, 500)               512500    \n",
      "_________________________________________________________________\n",
      "dense_2 (Dense)              (None, 10)                5010      \n",
      "=================================================================\n",
      "Total params: 528,054\n",
      "Trainable params: 528,054\n",
      "Non-trainable params: 0\n",
      "_________________________________________________________________\n"
     ]
    }
   ],
   "source": [
    "from keras.models import Sequential\n",
    "from keras.layers import Conv2D, MaxPooling2D, Flatten, Dense\n",
    "\n",
    "model = Sequential()\n",
    "\n",
    "model.add(Conv2D(filters=16, kernel_size=2, padding='same', \n",
    "                 activation='relu', input_shape=(32, 32, 3)))\n",
    "model.add(MaxPooling2D(pool_size=2))\n",
    "model.add(Conv2D(filters=32, kernel_size=2, padding='same', \n",
    "                 activation='relu'))\n",
    "model.add(MaxPooling2D(pool_size=2))\n",
    "model.add(Conv2D(filters=64, kernel_size=2, padding='same', \n",
    "                 activation='relu'))\n",
    "model.add(MaxPooling2D(pool_size=2))\n",
    "model.add(Flatten())\n",
    "model.add(Dense(500, activation='relu'))\n",
    "model.add(Dense(10, activation='relu'))\n",
    "\n",
    "model.summary()"
   ]
  },
  {
   "cell_type": "markdown",
   "metadata": {},
   "source": [
    "A rede começa com uma sequência de três camadas convolucionais, cada uma com uma camada max pooling logo em seguida. Estas primeiras seis camadas são projetadas para receber o vetor de pixels de uma imagem de entrada e converte este em um vetor em que toda a informação espacial fo espremida, de modo que apenas informações sobre o conteúdo da imagem permanecem. O vetor bidimensional é então achatada em um vetor simples na sétima camada da CNN. Na sequência, foram adicionadas duas camadas densas para esclarecer ainda mais o conteúdo da imagem. A última camada tem uma entrada para cada classe de objeto no conjunto de dados do CIFAR-10, além de uma função de ativação softmax, para que ela retorne probabilidades.\n",
    "\n",
    "**Lembretes**\n",
    "* É recomendável que sempre se adicione uma função de ativação ReLu às camadas `Conv2D` de uma CNN; exceto pela última camada da rede, camadas `Dense` também devem ter uma função de ativação ReLu.\n",
    "* Quando estiver construindo uma rede para classificação, a última camada da rede deve ser uma camada `Dense` com função de ativação softmax. O número de nós dessa camada deve ser igual ao número total de classes no conjunto de dados."
   ]
  }
 ],
 "metadata": {
  "kernelspec": {
   "display_name": "Python 3",
   "language": "python",
   "name": "python3"
  },
  "language_info": {
   "codemirror_mode": {
    "name": "ipython",
    "version": 3
   },
   "file_extension": ".py",
   "mimetype": "text/x-python",
   "name": "python",
   "nbconvert_exporter": "python",
   "pygments_lexer": "ipython3",
   "version": "3.6.5"
  }
 },
 "nbformat": 4,
 "nbformat_minor": 2
}
