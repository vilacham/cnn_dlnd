{
 "cells": [
  {
   "cell_type": "markdown",
   "metadata": {},
   "source": [
    "# CNNs no TensorFlow\n",
    "\n",
    "Neste notebook, vamos examinar como implementar uma rede neural convolucional no TensorFlow."
   ]
  },
  {
   "cell_type": "markdown",
   "metadata": {},
   "source": [
    "---\n",
    "## Camadas convolucionais no TensorFlow\n",
    "\n",
    "Nesta seção, vamos examinar como implementar uma camada convolucional no TensorFlow.\n",
    "\n",
    "O TensorFlow fornece as funções [**`tf.nn.conv2d()`**](https://www.tensorflow.org/api_docs/python/tf/nn/conv2d), [**`tf.nn.bias_add()`**](https://www.tensorflow.org/api_docs/python/tf/nn/bias_add) e [**`tf.nn.relu()`**](https://www.tensorflow.org/api_docs/python/tf/nn/relu) para que você possa criar suas próprias camadas convolucionais:\n",
    "\n",
    "```\n",
    "# Profundidade do output\n",
    "k_output = 64\n",
    "\n",
    "# Dimensões da imagem\n",
    "img_width = 10\n",
    "img_height = 10\n",
    "color_channels = 3\n",
    "\n",
    "# Filtro de convolução\n",
    "filter_size_width = 5\n",
    "filter_size_height = 5\n",
    "\n",
    "# Peso e viés\n",
    "weight = tf.Variable(tf.truncated_normal([filter_size_height, \n",
    "                                          filter_size_width, \n",
    "                                          color_channels, \n",
    "                                          k_output]))\n",
    "bias = tf.Variable(tf.zeros(k_output))\n",
    "\n",
    "# Aplicar convolução, adicionar viés e aplicar função de ativação\n",
    "conv_layer = tf.nn.conv2d(input, weight, strides=[1, 2, 2, 1], \n",
    "                          padding='SAME')\n",
    "conv_layer = tf.nn.bias_add(conv_layer, bias)\n",
    "conv_layer = tf.nn.relu(conv_layer)\n",
    "```"
   ]
  },
  {
   "cell_type": "markdown",
   "metadata": {},
   "source": [
    "O código acima usa a função [**`tf.nn.conv2d()`**](https://www.tensorflow.org/api_docs/python/tf/nn/conv2d) para computar a convolução usando `weight` como filtro e `[1, 2, 2, 1]` como passo.\n",
    "\n",
    "É importante ressaltar que:\n",
    "\n",
    "* O TensorFlow usa um passo para cada dimensão de entrada (`input`): `[batch, input_height, input_width, input_channels]`.\n",
    "* Em geral, configuramos o passo para `batch` e `input_channels` (ou seja, o primeiro e quarto elementos do array `strides`) como `1`. Isso assegura que o modelo usa todos lotes e canais de entrada (*é uma boa prática remover do conjunto de dados lotes ou canais que você queira pular, em vez de usar o passo para pulá-los*).\n",
    "* Você irá se concentrar em alterar `input_height` e `input_width` (mantendo `batch` e `input_channels` em 1). Os passos `input_height` e `input_width` servem para configurar a movimentação do filtro sobre a entrada `input`. O código exemplo usa um passo de 2 com um filtro 5x5 sobre `input`. Observe que o passo foi considerado um só número pois é simétrico, ou seja, `height = width`; quando alguém diz que está usando um passo de 2, isso significa que usou algo como `tf.nn.conv2d(x, W, stride=[1, 2, 2, 1])`."
   ]
  },
  {
   "cell_type": "markdown",
   "metadata": {},
   "source": [
    "A função [**`tf.nn.bias_add()`**](https://www.tensorflow.org/api_docs/python/tf/nn/bias_add) adiciona um viés unidimensional à última dimensão da matriz (observe que usar [**`tf.add`**](https://www.tensorflow.org/api_docs/python/tf/add) não funciona quando os tensores não são do mesmo formato)."
   ]
  },
  {
   "cell_type": "markdown",
   "metadata": {},
   "source": [
    "A função [**`tf.nn.relu()`**](https://www.tensorflow.org/api_docs/python/tf/nn/relu) aplica uma função de ativação ReLu à camada."
   ]
  },
  {
   "cell_type": "markdown",
   "metadata": {},
   "source": [
    "### Usando camadas convolucionais no TensorFlow\n",
    "\n",
    "Agora vamos construir uma camada convolucional no TensorFlow. Na célula abaixo, será solicitado que você configure as dimensões dos filtros de convolução, bem como os pesos e vieses. Esta é, de diversas formas, a parte mais complicada de se usar CNNs no TensorFlow. Quando você tiver uma noção de como configurar as dimensões destes atributos, usar CNNs será muito mais direto ao ponto.\n",
    "\n",
    "Recomendamos que você reveja a documentação do TensorFlow para [**convoluções 2D**](https://www.tensorflow.org/api_guides/python/nn#Convolution). A maior parte da documentação é bem direta, exceto talvez a explicação do argumento `padding` (espaçamento), que pode variar dependendo de você paassar `'VALID'` ou `'SAME'`. Além disso, recomendamos que também revise sobre [**variáveis no TensorFlow**](https://www.tensorflow.org/programmers_guide/variables) e sobre como determinar as dimensões da saída baseado no tamanho da entrada e do filtro (você usará isso para determinar o tamanho que seu filtro deve ter)."
   ]
  },
  {
   "cell_type": "code",
   "execution_count": null,
   "metadata": {},
   "outputs": [],
   "source": [
    "import tensorflow as tf\n",
    "import numpy as np\n",
    "\n",
    "# tf.nn.conv2d requer que o input seja 4D (batch_size, height, width, \n",
    "# depth)\n",
    "x = np.array([[0, 1, 0.5, 10], \n",
    "              [2, 2.5, 1, -8], \n",
    "              [4, 0, 5, 6], \n",
    "              [15, 1, 2, 3]], dtype=np.float32).reshape((1, 4, 4, 1))\n",
    "X = tf.constant(x)\n",
    "\n",
    "def conv2d(input):\n",
    "# Configure strides, padding, pesos e vieses de modo que o formato da\n",
    "# saída seja (1, 2, 2, 3)\n"
   ]
  }
 ],
 "metadata": {
  "kernelspec": {
   "display_name": "Python 3",
   "language": "python",
   "name": "python3"
  },
  "language_info": {
   "codemirror_mode": {
    "name": "ipython",
    "version": 3
   },
   "file_extension": ".py",
   "mimetype": "text/x-python",
   "name": "python",
   "nbconvert_exporter": "python",
   "pygments_lexer": "ipython3",
   "version": "3.6.5"
  }
 },
 "nbformat": 4,
 "nbformat_minor": 2
}
