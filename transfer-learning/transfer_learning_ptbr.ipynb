{
 "cells": [
  {
   "cell_type": "markdown",
   "metadata": {},
   "source": [
    "# Aprendizado por transferência\n",
    "\n",
    "Aprendizado por transferência envolve pegar uma rede neural pré-treinada e adaptá-la para um novo e diferente conjunto de dados.\n",
    "\n",
    "Dependendo do tamanho do novo conjunto de dados e da similaridade do novo conjunto de dados e do conjunto de dados original, a abordagem para o aprendizado por transferência será diferente. Existem quatro casos principais:\n",
    "\n",
    "* novo conjunto de dados é pequeno, novos dados são similares aos dados de treinamento originais\n",
    "* novo conjunto de dados é pequeno, novos dados são diferentes dos dados de treinamento originais\n",
    "* novo conjunto de dados é grande, novos dados são similares aos dados de treinamento originais\n",
    "* novo conjunto de dados é grande, novos dados são diferentes dos dados de treinamento originais\n",
    "\n",
    "<img src='img/01-guide-how-transfer-learning.png' width=800px>\n",
    "\n",
    "Um conjunto de dados grande pode ter um milhão de imagens. Um conjunto de dados pequeno pode ter duas mil imagens. A linha que divide um conjunto de dados grande e um pequeno é, de certa forma, subjetiva. Uma preocupação comum quando usamos aprendizado por transferência em um conjunto de dados pequeno é que ocorra sobreajuste.\n",
    "\n",
    "Imagens de cachorros e imagens de lobos seriam consideradas similares; as imagens compartilhariam características comuns. Um conjunto de imagens de flores seria diferente de um conjunto de imagens de cachorros.\n",
    "\n",
    "Como dito anteriormente, cada um dos quatro casos de aprendizado por transferência tem sua própria abordagem. Nas seções a seguir, vamos analisar cada caso separadamente."
   ]
  },
  {
   "cell_type": "markdown",
   "metadata": {},
   "source": [
    "---\n",
    "## Rede de demonstração\n",
    "\n",
    "Para explicar como cada situação funciona, vamos começar com uma rede neural convolucional pré-treinada genérica e explicar como ajustar a rede para cada caso. Nossa rede exemplo contém três camadas convolucionais e três camadas completamente conectadas:\n",
    "\n",
    "<img src='img/02-guide-how-transfer-learning.png' width=800px>\n",
    "\n",
    "Aqui vai uma visão geral do que uma rede neural convolucional faz:\n",
    "\n",
    "* a primeira camada vai detectar bordas na imagem\n",
    "* a segunda camada vai detectar formas\n",
    "* a terceira camada detecta caraterísticas de ordem mais elevada\n",
    "\n",
    "Cada caso de aprendizado por transferência vai usar a rede neural convolucional pré-treinada de uma forma diferente."
   ]
  },
  {
   "cell_type": "markdown",
   "metadata": {},
   "source": [
    "---\n",
    "## Caso 1: conjunto de dados pequeno, dados semelhantes\n",
    "\n",
    "<img src='img/03-guide-how-transfer-learning.png' width='800px'>\n",
    "\n",
    "Se o novo conjunto de dados é pequeno e similar aos dados de treinamento originais:\n",
    "\n",
    "* remova o final da rede neural\n",
    "* adicione uma nova camada completamente conectada que corresponde ao número de classes no novo conjunto de dados\n",
    "* atribua valores aleatórios para os pesos da nova camada completamente conectada; congele todos os pesos da rede pré-treinada\n",
    "* treine a rede para atualizar os pesos da nova camada completamente conectada\n",
    "\n",
    "Para evitar um sobreajuste no conjunto de dados pequeno, os pesos da rede original serão mantidos constantes, em vez de serem treinados novamente.\n",
    "\n",
    "Já que os conjuntos de dados são similiares, imagens de cada conjunto de dados terão características de alto nível similares. Portanto, boa parte ou todas as camadas da rede neural pré-treinada já contêm informações relevantes sobre o novo conjunto de dados e devem ser mantidas.\n",
    "\n",
    "É assim que você deve visualizar esta abordagem:\n",
    "\n",
    "<img src='img/04-guide-how-transfer-learning.png' width=800px>"
   ]
  },
  {
   "cell_type": "markdown",
   "metadata": {},
   "source": [
    "---\n",
    "## Caso 2: conjunto de dados pequeno, dados diferentes\n",
    "\n",
    "<img src='img/05-guide-how-transfer-learning.png' width=800px>\n",
    "\n",
    "Se o novo conjunto de dados é pequeno e diferente dos dados de treinamento originais:\n",
    "\n",
    "* remova a maior parte das camadas pré-treinadas próxima ao início da rede\n",
    "* adicione às camadas pré-treinadas que sobraram uma nova camada completamente conectada que corresponde ao número de classes no novo conjunto de dados\n",
    "* atribua valores aleatórios para os pesos da nova camada completamente conectada; congele todos os pesos da rede pré-treinada\n",
    "* treine a rede para atualizar os pesos da nova camada completamente conectada\n",
    "\n",
    "Já que o conjunto de dados continua pequeno, ainda nos preocupamos com o sobreajuste. Para evitar um possível sobreajuste, os pesos da rede neural original são mantidos constantes, como no primeiro caso.\n",
    "\n",
    "Mas o conjunto de treinamento original e o novo conjunto de dados não compartilham as mesmas características de alto nível. Neste caso, a nova rede usará somente as camadas contendo características de baixo nível.\n",
    "\n",
    "É assim que você deve visualizar essa abordagem:\n",
    "\n",
    "<img src='img/06-guide-how-transfer-learning.png' width=800px>"
   ]
  },
  {
   "cell_type": "markdown",
   "metadata": {},
   "source": [
    "---\n",
    "## Caso 3: conjunto de dados grande, dados similares\n",
    "\n",
    "<img src='img/07-guide-how-transfer-learning.png' width=800px>\n",
    "\n",
    "Se o novo conjunto de dados for grande e similar aos dados de treinamento originais:\n",
    "\n",
    "* remova a última camada completamente conectada e substitua por uma camada correspondente ao número de classes no novo conjunto de dados\n",
    "* inicialize os pesos de forma aleatória na nova camada completamente conectada\n",
    "* inicialize o restante dos pesos usando pesos pré-treinados\n",
    "* treine a rede neural inteira novamente\n",
    "\n",
    "Sobreajuste não é mais uma grande preocupação quando temos um grande conjunto de dados; portanto, você pode treinar todos os pesos novamente.\n",
    "\n",
    "Já que o conjunto de treinamento original e o novo conjunto de dados compartilham as mesmas características de alto nível, toda a rede neural é usada também.\n",
    "\n",
    "É assim que você deve visualizar esta abordagem:\n",
    "\n",
    "<img src='img/08-guide-how-transfer-learning.png' width=800px>"
   ]
  },
  {
   "cell_type": "markdown",
   "metadata": {},
   "source": [
    "---\n",
    "## Caso 4: conjunto de dados grande, dados diefrentes\n",
    "\n",
    "<img src='img/09-guide-how-transfer-learning.png' width=800px>\n",
    "\n",
    "Se o novo conjunto de dados é grande e diferente dos dados de treinamento originais:\n",
    "\n",
    "* remova a última camada completamente conectada e substitua por uma camada correspondente ao número de classes no novo conjunto de dados\n",
    "* treine a rede novamente do zero com pesos inicializados de forma aleatória\n",
    "* como alternativa, voce pode simplesmente usar a mesma estratégia que o caso dos dados \"grandes e similares\"\n",
    "\n",
    "Embora o conjunto de dados seja diferente dos dados de treinamento, inicializar os pesos com a rede neural pré-treinada pode fazer com que o treinamento seja mais rápido. Então este caso é exatamente o mesmo que o caso com o conjunto de dados grande e similar.\n",
    "\n",
    "Se usar a rede neural pré-treinada como ponto de partida não produzir um modelo de sucesso, outra opção é inicializar aleatoriamente os pesos da rede neural convolucional e treinar a rede do zero.\n",
    "\n",
    "É assim que você deve visualizar esta abordagem:\n",
    "\n",
    "<img src='img/10-guide-how-transfer-learning.png' width=800px>"
   ]
  }
 ],
 "metadata": {
  "kernelspec": {
   "display_name": "Python 3",
   "language": "python",
   "name": "python3"
  },
  "language_info": {
   "codemirror_mode": {
    "name": "ipython",
    "version": 3
   },
   "file_extension": ".py",
   "mimetype": "text/x-python",
   "name": "python",
   "nbconvert_exporter": "python",
   "pygments_lexer": "ipython3",
   "version": "3.6.5"
  }
 },
 "nbformat": 4,
 "nbformat_minor": 2
}
