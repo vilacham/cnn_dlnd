{
 "cells": [
  {
   "cell_type": "markdown",
   "metadata": {
    "collapsed": true
   },
   "source": [
    "# Redes neurais convolucionais no Keras\n",
    "\n",
    "Neste notebook, discute-se como implementar redes neurais convolucionais usando o Keras."
   ]
  },
  {
   "cell_type": "markdown",
   "metadata": {},
   "source": [
    "---\n",
    "## Camadas convolucionais no Keras\n",
    "\n",
    "<img src='img/full_padding_no_strides_transposed.gif' width=300px>\n",
    "\n",
    "Para criar uma camada convolucional no Keras, primeiro é necessário importar o módulo [**`Conv2D`**](https://keras.io/layers/convolutional/#conv2d), como no exemplo abaixo:\n",
    "\n",
    "```\n",
    "from keras.layers import Conv2D\n",
    "```\n",
    "\n",
    "Então, para de fato criar a camada, usa-se o formato a seguir:\n",
    "\n",
    "```\n",
    "Conv2D(filters, kernel_size, strides, padding, activation='relu', input_shape)\n",
    "```"
   ]
  },
  {
   "cell_type": "markdown",
   "metadata": {},
   "source": [
    "### Argumentos\n",
    "\n",
    "Deve-se passar os seguintes argumentos:\n",
    "\n",
    "* **`filters`**: número de filtros.\n",
    "* **`kernel_size`**: número ou tupla que especifica as dimensões (altura e largura) da janela de convolução.\n",
    "\n",
    "Há também argumentos opcionais que podem ser ajustados:\n",
    "\n",
    "* **`strides`**: número ou tupla que especifica o passo da convolução. Se não for especificado, assume o valor padrão de `1`.\n",
    "* **`padding`**: pode ser `'valid'` (não há preenchimento, fazendo com que a janela de convolução ocupe apenas as posições válidas) ou `'same'` (há preechimento, fazendo com que a convolução resulte em uma saída com as mesmas dimensões da entrada). Se não for especificado, assume o valor padrão `'valid'`.\n",
    "* **`activation`**: tipicamente `'relu'`. É sempre recomendado que essa seja a função de ativação em camadas convolucionais. Se não for especificado, assume `None`.\n",
    "* **`input_shape`**: tupla que especifica a altura, a largura e a profundidade, nesta ordem, da entrada. ***É importante lembrar que este argumento deve ser usado apenas na primeira camada (após a camada de entrada) de um modelo, e não deve ser incluído nas outras camadas.***\n",
    "\n",
    "Existem outros argumentos ajustáveis que podem ser configurados para alterar o comportamento de uma camada convolucional. Para ler mais sobre estes argumentos, é recomendável que se leia a [documentação](https://keras.io/layers/convolutional/#conv2d)."
   ]
  },
  {
   "cell_type": "markdown",
   "metadata": {},
   "source": [
    "### Exemplos\n",
    "\n",
    "**Primeiro exemplo:** Digamos que você esteja construindo uma CNN e sua camada de entrada aceite imagens em níveis de cinza de 200 por 200 pixeis (correspondentes a um arranjo 3d de altura 200, largura 200 e profundidade 1). Digamos que você gostaria que a próxima camada fosse uma camada convolucional com 16 filtros, cada um com altura e largura de 2. Quando estiver realizando a convolução, vocÇe também gostaria que o filtro pulasse 2 pixels por vez, e não gostaria que o filtro fosse aplicado fora dos limites da imagem (em outras palavras, você não quer preencher a imagem com zeros). Para construir esta camada, você deve usar a seguinte linha de código:\n",
    "\n",
    "```\n",
    "Conv2D(filters=16, kernel_size=2, strides=2, activation='relu', input_shape=(200, 200, 1))\n",
    "```\n",
    "\n",
    "**Segundo exemplo:** Digamos que você gostaria que a próxima camada da sua CNN fosse uma camada convolucional que receberá a camada construído no primeiro exemplo como entrada. Digamos que você gostaria que sua nova camada tivesse 32 filtros, cada um com altura e largura 3. Quando estiver realizando a convolução, você gostaria que o filtro pulasse 1 pixel por vez. Você quer que a camada convolucional veja todas as regiões da camada anterior, então não se importa se o filtro se estender além da borda da camada anterior quando estiver realizando a convolução. Para construir essa camada, você deve usar a seguinte linha de código:\n",
    "\n",
    "```\n",
    "Conv2D(filters=32, kernel_size=3, padding='same', activation='relu')\n",
    "```\n",
    "\n",
    "**Terceiro exemplo:** Se você pesquisar sobre CNN no Keras, possivelmente verá códigos no seguinte formato:\n",
    "\n",
    "```\n",
    "Conv2D(64, (2, 2), activation='relu')\n",
    "```\n",
    "\n",
    "Neste caso, existem 64 filtros, cada um com tamanho 2x2, e a camada tem uma função de ativação ReLu. Os outros argumentos da camada assumem valores padrão, então a convolução tem um passo de 1 e o preenchimento foi configurado como `'valid'`."
   ]
  },
  {
   "cell_type": "code",
   "execution_count": null,
   "metadata": {
    "collapsed": true
   },
   "outputs": [],
   "source": []
  }
 ],
 "metadata": {
  "kernelspec": {
   "display_name": "Python 3",
   "language": "python",
   "name": "python3"
  },
  "language_info": {
   "codemirror_mode": {
    "name": "ipython",
    "version": 3
   },
   "file_extension": ".py",
   "mimetype": "text/x-python",
   "name": "python",
   "nbconvert_exporter": "python",
   "pygments_lexer": "ipython3",
   "version": "3.6.1"
  }
 },
 "nbformat": 4,
 "nbformat_minor": 2
}
